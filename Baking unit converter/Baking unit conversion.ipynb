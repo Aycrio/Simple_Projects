{
 "cells": [
  {
   "cell_type": "code",
   "execution_count": 11,
   "id": "65d2f6f3",
   "metadata": {},
   "outputs": [],
   "source": [
    "def farenheit_to_celsius(temp):\n",
    "    \"\"\"\n",
    "    Unit conversion of farenheit to degree celsius for baking recipes\n",
    "    \"\"\"\n",
    "# Temperature in degrees Fahrenheit (°F) = (Temperature in degrees Celsius (°C) * 9/5) + 32\n",
    "\n",
    "# Temperature in degrees Celsius (°C) = (Temperature in degrees Fahrenheit (°F) - 32) * 5/9\n",
    "    temp = (temp -32) * (5/9)\n",
    "    temp = round(temp, 0)\n",
    "    \n",
    "    return f\"The temperature is {temp} degree celsius\""
   ]
  },
  {
   "cell_type": "code",
   "execution_count": 12,
   "id": "8ecab668",
   "metadata": {},
   "outputs": [
    {
     "data": {
      "text/plain": [
       "'The temperature is 107.0 degree celsius'"
      ]
     },
     "execution_count": 12,
     "metadata": {},
     "output_type": "execute_result"
    }
   ],
   "source": [
    "farenheit_to_celsius(225)"
   ]
  },
  {
   "cell_type": "code",
   "execution_count": 19,
   "id": "dc18b463",
   "metadata": {},
   "outputs": [],
   "source": [
    "def oz_to_grams(weight):\n",
    "    \"\"\"\n",
    "    Unit conversion from oz to grams\n",
    "    \"\"\"\n",
    "# for an approximate result, grams is oz divide the mass value by 28.35\n",
    "    gram = weight *28.35\n",
    "    gram = round(gram, 0)\n",
    "    \n",
    "    return f\"The weight required is {gram} grams\""
   ]
  },
  {
   "cell_type": "code",
   "execution_count": 20,
   "id": "8dab3151",
   "metadata": {},
   "outputs": [
    {
     "data": {
      "text/plain": [
       "'The weight required is 85.0 grams'"
      ]
     },
     "execution_count": 20,
     "metadata": {},
     "output_type": "execute_result"
    }
   ],
   "source": [
    "oz_to_grams(3)"
   ]
  },
  {
   "cell_type": "code",
   "execution_count": 21,
   "id": "7f844813",
   "metadata": {},
   "outputs": [],
   "source": [
    "def oz_to_volume(vol):\n",
    "    \"\"\"\n",
    "    Unit conversion from oz to volume\n",
    "    \"\"\"\n",
    "# for an approximate result, divide the volume value by 29.574\n",
    "\n",
    "    volume = vol *29.574\n",
    "    volume = round(volume, 0)\n",
    "    \n",
    "    return f\"The volume required is {volume} mililitres\""
   ]
  },
  {
   "cell_type": "code",
   "execution_count": 22,
   "id": "3098120b",
   "metadata": {},
   "outputs": [
    {
     "data": {
      "text/plain": [
       "'The volume required is 148.0 mililitres'"
      ]
     },
     "execution_count": 22,
     "metadata": {},
     "output_type": "execute_result"
    }
   ],
   "source": [
    "oz_to_volume(5)"
   ]
  },
  {
   "cell_type": "code",
   "execution_count": 23,
   "id": "3a6d225a",
   "metadata": {},
   "outputs": [],
   "source": [
    "def baking_conversion(temp=None, weight=None, vol=None):\n",
    "    \"\"\"\n",
    "    Baking conversion function that wraps temperature, weight, and volume conversions.\n",
    "    \"\"\"\n",
    "    \n",
    "    def farenheit_to_celsius(temp):\n",
    "        \"\"\"\n",
    "        Unit conversion of farenheit to degree celsius for baking recipes\n",
    "        \"\"\"\n",
    "        temp = (temp -32) * (5/9)\n",
    "        temp = round(temp, 0)\n",
    "        return f\"The temperature is {temp} degree celsius\"\n",
    "    \n",
    "    def oz_to_grams(weight):\n",
    "        \"\"\"\n",
    "        Unit conversion from oz to grams\n",
    "        \"\"\"\n",
    "        gram = weight *28.35\n",
    "        gram = round(gram, 0)\n",
    "        return f\"The weight required is {gram} grams\"\n",
    "\n",
    "    def oz_to_volume(vol):\n",
    "        \"\"\"\n",
    "        Unit conversion from oz to volume\n",
    "        \"\"\"\n",
    "        volume = vol *29.574\n",
    "        volume = round(volume, 0)\n",
    "        return f\"The volume required is {volume} mililitres\"\n",
    "\n",
    "    results = []\n",
    "\n",
    "    if temp is not None:\n",
    "        results.append(farenheit_to_celsius(temp))\n",
    "    if weight is not None:\n",
    "        results.append(oz_to_grams(weight))\n",
    "    if vol is not None:\n",
    "        results.append(oz_to_volume(vol))\n",
    "\n",
    "    return \"\\n\".join(results)"
   ]
  },
  {
   "cell_type": "code",
   "execution_count": 25,
   "id": "715aa8a3",
   "metadata": {},
   "outputs": [
    {
     "data": {
      "text/plain": [
       "'The temperature is 204.0 degree celsius\\nThe weight required is 142.0 grams\\nThe volume required is 296.0 mililitres'"
      ]
     },
     "execution_count": 25,
     "metadata": {},
     "output_type": "execute_result"
    }
   ],
   "source": [
    "baking_conversion(400, 5, 10)"
   ]
  },
  {
   "cell_type": "code",
   "execution_count": null,
   "id": "322cfd3f",
   "metadata": {},
   "outputs": [],
   "source": []
  }
 ],
 "metadata": {
  "kernelspec": {
   "display_name": "Python 3 (ipykernel)",
   "language": "python",
   "name": "python3"
  },
  "language_info": {
   "codemirror_mode": {
    "name": "ipython",
    "version": 3
   },
   "file_extension": ".py",
   "mimetype": "text/x-python",
   "name": "python",
   "nbconvert_exporter": "python",
   "pygments_lexer": "ipython3",
   "version": "3.10.9"
  }
 },
 "nbformat": 4,
 "nbformat_minor": 5
}
