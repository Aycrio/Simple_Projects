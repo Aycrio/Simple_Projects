{
 "cells": [
  {
   "cell_type": "code",
   "execution_count": 1,
   "id": "97d6f818",
   "metadata": {},
   "outputs": [],
   "source": [
    "# import qrcode library"
   ]
  },
  {
   "cell_type": "code",
   "execution_count": 2,
   "id": "f5d49753",
   "metadata": {},
   "outputs": [
    {
     "name": "stdout",
     "output_type": "stream",
     "text": [
      "Collecting qrcode\n",
      "  Downloading qrcode-7.4.2-py3-none-any.whl (46 kB)\n",
      "     -------------------------------------- 46.2/46.2 kB 135.7 kB/s eta 0:00:00\n",
      "Collecting pypng\n",
      "  Downloading pypng-0.20220715.0-py3-none-any.whl (58 kB)\n",
      "     -------------------------------------- 58.1/58.1 kB 771.2 kB/s eta 0:00:00\n",
      "Requirement already satisfied: typing-extensions in c:\\users\\junfe\\anaconda3\\lib\\site-packages (from qrcode) (4.4.0)\n",
      "Requirement already satisfied: colorama in c:\\users\\junfe\\anaconda3\\lib\\site-packages (from qrcode) (0.4.6)\n",
      "Installing collected packages: pypng, qrcode\n",
      "Successfully installed pypng-0.20220715.0 qrcode-7.4.2\n",
      "Note: you may need to restart the kernel to use updated packages.\n"
     ]
    }
   ],
   "source": [
    "!pip install qrcode"
   ]
  },
  {
   "cell_type": "code",
   "execution_count": 3,
   "id": "173e4228",
   "metadata": {},
   "outputs": [],
   "source": [
    "import qrcode"
   ]
  },
  {
   "cell_type": "code",
   "execution_count": 5,
   "id": "8b83e4b7",
   "metadata": {},
   "outputs": [],
   "source": [
    "# Generate the QR code\n",
    "# Can use any url prefered, best to get permission if not owned\n",
    "img = qrcode.make('https://docs.google.com/forms/d/1FohLdGeOB_nAf2K1nTAc0l-Re1MNkmakmy-2Yr3O2jk/edit')"
   ]
  },
  {
   "cell_type": "code",
   "execution_count": 6,
   "id": "258c1c0c",
   "metadata": {},
   "outputs": [],
   "source": [
    "img.save('GoogleForm.jpg')"
   ]
  },
  {
   "cell_type": "code",
   "execution_count": null,
   "id": "baa3c658",
   "metadata": {},
   "outputs": [],
   "source": []
  }
 ],
 "metadata": {
  "kernelspec": {
   "display_name": "Python 3 (ipykernel)",
   "language": "python",
   "name": "python3"
  },
  "language_info": {
   "codemirror_mode": {
    "name": "ipython",
    "version": 3
   },
   "file_extension": ".py",
   "mimetype": "text/x-python",
   "name": "python",
   "nbconvert_exporter": "python",
   "pygments_lexer": "ipython3",
   "version": "3.10.9"
  }
 },
 "nbformat": 4,
 "nbformat_minor": 5
}
